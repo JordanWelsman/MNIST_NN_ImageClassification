{
 "cells": [
  {
   "cell_type": "markdown",
   "id": "c254041c",
   "metadata": {},
   "source": [
    "# Image Classification using Neural Networks and the MNIST Dataset"
   ]
  },
  {
   "cell_type": "markdown",
   "id": "4a857981",
   "metadata": {},
   "source": [
    "## Module Imports"
   ]
  },
  {
   "cell_type": "code",
   "execution_count": 1,
   "id": "d3b9b4a0",
   "metadata": {},
   "outputs": [],
   "source": [
    "# TensorFlow\n",
    "import tensorflow as tf\n",
    "\n",
    "# Numpy\n",
    "import numpy as np\n",
    "\n",
    "# MatPlotLib\n",
    "import matplotlib .pyplot as plt"
   ]
  },
  {
   "cell_type": "markdown",
   "id": "318f07f1",
   "metadata": {},
   "source": [
    "## Unpacking Data"
   ]
  },
  {
   "cell_type": "code",
   "execution_count": 2,
   "id": "d8912e3b",
   "metadata": {},
   "outputs": [],
   "source": [
    "# Importing dataset from Keras\n",
    "mnist = tf.keras.datasets.mnist # 28x28 images of hand-drawn digits\n",
    "\n",
    "# Unpacking dataset into training & testing splits\n",
    "(x_train, y_train), (x_test, y_test) = mnist.load_data()"
   ]
  },
  {
   "cell_type": "code",
   "execution_count": 3,
   "id": "377d9af6",
   "metadata": {},
   "outputs": [
    {
     "data": {
      "image/png": "[encoded data removed]",
      "text/plain": [
       "<Figure size 432x288 with 1 Axes>"
      ]
     },
     "metadata": {
      "needs_background": "light"
     },
     "output_type": "display_data"
    }
   ],
   "source": [
    "# Displaying the first image in the dataset\n",
    "plt.imshow(x_train[0], cmap=plt.cm.binary) # using black & white colour map\n",
    "plt.show()"
   ]
  },
  {
   "cell_type": "markdown",
   "id": "cab6e9dc",
   "metadata": {},
   "source": [
    "## Normalising Data"
   ]
  },
  {
   "cell_type": "code",
   "execution_count": 4,
   "id": "a1a7d486",
   "metadata": {},
   "outputs": [],
   "source": [
    "# Scaling pixel values from [0 - 255] to [0.0 - 1.0]\n",
    "x_train = tf.keras.utils.normalize(x_train, axis=1) # scaling training set\n",
    "x_train = tf.keras.utils.normalize(x_train, axis=1) # scaling testing set"
   ]
  },
  {
   "cell_type": "code",
   "execution_count": 5,
   "id": "e29114f6",
   "metadata": {},
   "outputs": [
    {
     "data": {
      "image/png": "[encoded data removed]",
      "text/plain": [
       "<Figure size 432x288 with 1 Axes>"
      ]
     },
     "metadata": {
      "needs_background": "light"
     },
     "output_type": "display_data"
    }
   ],
   "source": [
    "# Displaying the first image in the dataset (normalised)\n",
    "plt.imshow(x_train[0], cmap=plt.cm.binary) # using black & white colour map\n",
    "plt.show()"
   ]
  },
  {
   "cell_type": "markdown",
   "id": "5d65116f",
   "metadata": {},
   "source": [
    "## Building Neural Network"
   ]
  },
  {
   "cell_type": "code",
   "execution_count": 6,
   "id": "3d463fee",
   "metadata": {},
   "outputs": [
    {
     "name": "stderr",
     "output_type": "stream",
     "text": [
      "2022-04-02 00:29:33.712555: I tensorflow/core/platform/cpu_feature_guard.cc:142] This TensorFlow binary is optimized with oneAPI Deep Neural Network Library (oneDNN) to use the following CPU instructions in performance-critical operations:  AVX2 FMA\n",
      "To enable them in other operations, rebuild TensorFlow with the appropriate compiler flags.\n"
     ]
    }
   ],
   "source": [
    "# Using feed-forward sequential Neural Network model\n",
    "model = tf.keras.models.Sequential()\n",
    "\n",
    "# Adding NN layers\n",
    "model.add(tf.keras.layers.Flatten()) # input layer (28x28 image pixels)\n",
    "\n",
    "model.add(tf.keras.layers.Dense(128, activation=tf.nn.relu)) # hidden layer 1\n",
    "model.add(tf.keras.layers.Dense(128, activation=tf.nn.relu)) # hidden layer 2\n",
    "\n",
    "model.add(tf.keras.layers.Dense(10, activation=tf.nn.softmax)) # output layer (0 - 9 digits)\n",
    "\n",
    "# Compiling model\n",
    "model.compile(optimizer='adam',\n",
    "             loss='sparse_categorical_crossentropy',\n",
    "             metrics=['accuracy'])"
   ]
  },
  {
   "cell_type": "markdown",
   "id": "eedfebe6",
   "metadata": {},
   "source": [
    "## Training Neural Network"
   ]
  },
  {
   "cell_type": "code",
   "execution_count": 7,
   "id": "87e0a106",
   "metadata": {},
   "outputs": [
    {
     "name": "stderr",
     "output_type": "stream",
     "text": [
      "2022-04-02 00:29:36.536784: I tensorflow/compiler/mlir/mlir_graph_optimization_pass.cc:185] None of the MLIR Optimization Passes are enabled (registered 2)\n"
     ]
    },
    {
     "name": "stdout",
     "output_type": "stream",
     "text": [
      "Epoch 1/3\n",
      "1875/1875 [==============================] - 3s 1ms/step - loss: 0.2585 - accuracy: 0.9235\n",
      "Epoch 2/3\n",
      "1875/1875 [==============================] - 2s 1ms/step - loss: 0.1074 - accuracy: 0.9666\n",
      "Epoch 3/3\n",
      "1875/1875 [==============================] - 2s 1ms/step - loss: 0.0745 - accuracy: 0.9762\n"
     ]
    },
    {
     "data": {
      "text/plain": [
       "<keras.callbacks.History at 0x7f937b46c130>"
      ]
     },
     "execution_count": 7,
     "metadata": {},
     "output_type": "execute_result"
    }
   ],
   "source": [
    "# Training model\n",
    "model.fit(x_train, y_train, epochs=3)"
   ]
  },
  {
   "cell_type": "markdown",
   "id": "04dbc4a8",
   "metadata": {},
   "source": [
    "## Testing Neural Network"
   ]
  },
  {
   "cell_type": "code",
   "execution_count": 8,
   "id": "d4527a16",
   "metadata": {},
   "outputs": [
    {
     "name": "stdout",
     "output_type": "stream",
     "text": [
      "313/313 [==============================] - 1s 851us/step - loss: 59.8046 - accuracy: 0.9537\n",
      "Loss: 59.804649353027344 Accuracy: 0.9537000060081482\n"
     ]
    }
   ],
   "source": [
    "# Testing & evaluating model\n",
    "val_loss, val_acc = model.evaluate(x_test, y_test)\n",
    "\n",
    "# Printing evaluations\n",
    "print(\"Loss:\", val_loss, \"Accuracy:\", val_acc)"
   ]
  },
  {
   "cell_type": "markdown",
   "id": "6e8699a4",
   "metadata": {},
   "source": [
    "## Saving Model"
   ]
  },
  {
   "cell_type": "code",
   "execution_count": 9,
   "id": "e6f042b3",
   "metadata": {},
   "outputs": [
    {
     "name": "stderr",
     "output_type": "stream",
     "text": [
      "2022-04-02 00:29:49.495984: W tensorflow/python/util/util.cc:348] Sets are not currently considered sequences, but this may change in the future, so consider avoiding using them.\n"
     ]
    },
    {
     "name": "stdout",
     "output_type": "stream",
     "text": [
      "INFO:tensorflow:Assets written to: number_reader_nn/assets\n"
     ]
    }
   ],
   "source": [
    "model.save('number_reader_nn')"
   ]
  },
  {
   "cell_type": "markdown",
   "id": "a8132d25",
   "metadata": {},
   "source": [
    "## Predicting Digits"
   ]
  },
  {
   "cell_type": "code",
   "execution_count": 17,
   "id": "ca280597",
   "metadata": {},
   "outputs": [
    {
     "name": "stdout",
     "output_type": "stream",
     "text": [
      "Prediction: 5\n"
     ]
    }
   ],
   "source": [
    "# Predicting number of a drawn image\n",
    "predictions = model.predict(x_test)\n",
    "\n",
    "print(\"Prediction:\", np.argmax(predictions[23]))"
   ]
  },
  {
   "cell_type": "code",
   "execution_count": 16,
   "id": "a53227c7",
   "metadata": {},
   "outputs": [
    {
     "data": {
      "image/png": "[encoded data removed]",
      "text/plain": [
       "<Figure size 432x288 with 1 Axes>"
      ]
     },
     "metadata": {
      "needs_background": "light"
     },
     "output_type": "display_data"
    }
   ],
   "source": [
    "# Displaying the first prediction image\n",
    "plt.imshow(x_test[23], cmap=plt.cm.binary) # using black & white colour map\n",
    "plt.show()"
   ]
  }
 ],
 "metadata": {
  "kernelspec": {
   "display_name": "Python 3 (ipykernel)",
   "language": "python",
   "name": "python3"
  },
  "language_info": {
   "codemirror_mode": {
    "name": "ipython",
    "version": 3
   },
   "file_extension": ".py",
   "mimetype": "text/x-python",
   "name": "python",
   "nbconvert_exporter": "python",
   "pygments_lexer": "ipython3",
   "version": "3.9.1"
  },
  "toc": {
   "base_numbering": 1,
   "nav_menu": {},
   "number_sections": true,
   "sideBar": true,
   "skip_h1_title": true,
   "title_cell": "Table of Contents",
   "title_sidebar": "Contents",
   "toc_cell": false,
   "toc_position": {},
   "toc_section_display": true,
   "toc_window_display": false
  }
 },
 "nbformat": 4,
 "nbformat_minor": 5
}
