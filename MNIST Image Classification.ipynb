{
 "cells": [
  {
   "cell_type": "markdown",
   "id": "c254041c",
   "metadata": {},
   "source": [
    "# Image Classification using Neural Networks and the MNIST Dataset"
   ]
  },
  {
   "cell_type": "markdown",
   "id": "4a857981",
   "metadata": {},
   "source": [
    "## Module Imports"
   ]
  },
  {
   "cell_type": "code",
   "execution_count": 20,
   "id": "d3b9b4a0",
   "metadata": {},
   "outputs": [],
   "source": [
    "# TensorFlow\n",
    "import tensorflow as tf\n",
    "\n",
    "# Numpy\n",
    "import numpy as np\n",
    "\n",
    "# MatPlotLib\n",
    "import matplotlib .pyplot as plt"
   ]
  },
  {
   "cell_type": "markdown",
   "id": "318f07f1",
   "metadata": {},
   "source": [
    "## Unpacking Data"
   ]
  },
  {
   "cell_type": "code",
   "execution_count": 6,
   "id": "d8912e3b",
   "metadata": {},
   "outputs": [
    {
     "name": "stdout",
     "output_type": "stream",
     "text": [
      "Downloading data from https://storage.googleapis.com/tensorflow/tf-keras-datasets/mnist.npz\n",
      "11493376/11490434 [==============================] - 2s 0us/step\n",
      "11501568/11490434 [==============================] - 2s 0us/step\n"
     ]
    }
   ],
   "source": [
    "# Importing dataset from Keras\n",
    "mnist = tf.keras.datasets.mnist # 28x28 images of hand-drawn digits\n",
    "\n",
    "# Unpacking dataset into training & testing splits\n",
    "(x_train, y_train), (x_test, y_test) = mnist.load_data()"
   ]
  },
  {
   "cell_type": "code",
   "execution_count": 9,
   "id": "ba815306",
   "metadata": {},
   "outputs": [
    {
     "data": {
      "image/png": "[encoded data removed]",
      "text/plain": [
       "<Figure size 432x288 with 1 Axes>"
      ]
     },
     "metadata": {
      "needs_background": "light"
     },
     "output_type": "display_data"
    }
   ],
   "source": [
    "# Displaying the first image in the dataset\n",
    "plt.imshow(x_train[0], cmap=plt.cm.binary) # using black & white colour map\n",
    "plt.show()"
   ]
  },
  {
   "cell_type": "markdown",
   "id": "9d7941b0",
   "metadata": {},
   "source": [
    "## Normalising Data"
   ]
  },
  {
   "cell_type": "code",
   "execution_count": 12,
   "id": "d9f71e8e",
   "metadata": {},
   "outputs": [],
   "source": [
    "# Scaling pixel values from [0 - 255] to [0.0 - 1.0]\n",
    "x_train = tf.keras.utils.normalize(x_train, axis=1) # scaling training set\n",
    "x_train = tf.keras.utils.normalize(x_train, axis=1) # scaling testing set"
   ]
  },
  {
   "cell_type": "code",
   "execution_count": 14,
   "id": "ff2dcf07",
   "metadata": {},
   "outputs": [
    {
     "data": {
      "image/png": "[encoded data removed]",
      "text/plain": [
       "<Figure size 432x288 with 1 Axes>"
      ]
     },
     "metadata": {
      "needs_background": "light"
     },
     "output_type": "display_data"
    }
   ],
   "source": [
    "# Displaying the first image in the dataset (normalised)\n",
    "plt.imshow(x_train[0], cmap=plt.cm.binary) # using black & white colour map\n",
    "plt.show()"
   ]
  },
  {
   "cell_type": "markdown",
   "id": "c3f30405",
   "metadata": {},
   "source": [
    "## Building Neural Network"
   ]
  },
  {
   "cell_type": "code",
   "execution_count": 16,
   "id": "26b9764b",
   "metadata": {},
   "outputs": [
    {
     "name": "stderr",
     "output_type": "stream",
     "text": [
      "2022-04-02 00:12:45.070099: I tensorflow/core/platform/cpu_feature_guard.cc:142] This TensorFlow binary is optimized with oneAPI Deep Neural Network Library (oneDNN) to use the following CPU instructions in performance-critical operations:  AVX2 FMA\n",
      "To enable them in other operations, rebuild TensorFlow with the appropriate compiler flags.\n"
     ]
    }
   ],
   "source": [
    "# Using feed-forward sequential Neural Network model\n",
    "model = tf.keras.models.Sequential()\n",
    "\n",
    "# Adding NN layers\n",
    "model.add(tf.keras.layers.Flatten()) # input layer (28x28 image pixels)\n",
    "\n",
    "model.add(tf.keras.layers.Dense(128, activation=tf.nn.relu)) # hidden layer 1\n",
    "model.add(tf.keras.layers.Dense(128, activation=tf.nn.relu)) # hidden layer 2\n",
    "\n",
    "model.add(tf.keras.layers.Dense(10, activation=tf.nn.softmax)) # output layer (0 - 9 digits)\n",
    "\n",
    "# Compiling model\n",
    "model.compile(optimizer='adam',\n",
    "             loss='sparse_categorical_crossentropy',\n",
    "             metrics=['accuracy'])"
   ]
  },
  {
   "cell_type": "markdown",
   "id": "15da9f6c",
   "metadata": {},
   "source": [
    "## Training Neural Network"
   ]
  },
  {
   "cell_type": "code",
   "execution_count": 17,
   "id": "b7fa0707",
   "metadata": {},
   "outputs": [
    {
     "name": "stderr",
     "output_type": "stream",
     "text": [
      "2022-04-02 00:15:11.215959: I tensorflow/compiler/mlir/mlir_graph_optimization_pass.cc:185] None of the MLIR Optimization Passes are enabled (registered 2)\n"
     ]
    },
    {
     "name": "stdout",
     "output_type": "stream",
     "text": [
      "Epoch 1/3\n",
      "1875/1875 [==============================] - 4s 2ms/step - loss: 0.2634 - accuracy: 0.9232\n",
      "Epoch 2/3\n",
      "1875/1875 [==============================] - 3s 1ms/step - loss: 0.1069 - accuracy: 0.9666\n",
      "Epoch 3/3\n",
      "1875/1875 [==============================] - 2s 1ms/step - loss: 0.0731 - accuracy: 0.9772\n"
     ]
    },
    {
     "data": {
      "text/plain": [
       "<keras.callbacks.History at 0x7fd66d657130>"
      ]
     },
     "execution_count": 17,
     "metadata": {},
     "output_type": "execute_result"
    }
   ],
   "source": [
    "# Training model\n",
    "model.fit(x_train, y_train, epochs=3)"
   ]
  },
  {
   "cell_type": "markdown",
   "id": "a40150dc",
   "metadata": {},
   "source": [
    "## Testing Neural Network"
   ]
  },
  {
   "cell_type": "code",
   "execution_count": 18,
   "id": "3f5e7d43",
   "metadata": {},
   "outputs": [
    {
     "name": "stdout",
     "output_type": "stream",
     "text": [
      "313/313 [==============================] - 1s 1ms/step - loss: 45.7642 - accuracy: 0.9636\n",
      "Loss: 45.764217376708984 Accuracy: 0.9635999798774719\n"
     ]
    }
   ],
   "source": [
    "# Testing & evaluating model\n",
    "val_loss, val_acc = model.evaluate(x_test, y_test)\n",
    "\n",
    "# Printing evaluations\n",
    "print(\"Loss:\", val_loss, \"Accuracy:\", val_acc)"
   ]
  },
  {
   "cell_type": "markdown",
   "id": "9a376066",
   "metadata": {},
   "source": [
    "## Saving Model"
   ]
  },
  {
   "cell_type": "code",
   "execution_count": 19,
   "id": "bd58add6",
   "metadata": {},
   "outputs": [
    {
     "name": "stderr",
     "output_type": "stream",
     "text": [
      "2022-04-02 00:21:25.491371: W tensorflow/python/util/util.cc:348] Sets are not currently considered sequences, but this may change in the future, so consider avoiding using them.\n"
     ]
    },
    {
     "name": "stdout",
     "output_type": "stream",
     "text": [
      "INFO:tensorflow:Assets written to: number_reader_nn/assets\n"
     ]
    }
   ],
   "source": [
    "model.save('number_reader_nn')"
   ]
  },
  {
   "cell_type": "markdown",
   "id": "5f148628",
   "metadata": {},
   "source": [
    "## Predicting Digits"
   ]
  },
  {
   "cell_type": "code",
   "execution_count": 24,
   "id": "152839b7",
   "metadata": {},
   "outputs": [
    {
     "name": "stdout",
     "output_type": "stream",
     "text": [
      "Prediction: 7\n"
     ]
    }
   ],
   "source": [
    "# Predicting number of a drawn image\n",
    "predictions = model.predict(x_test)\n",
    "\n",
    "print(\"Prediction:\", np.argmax(predictions[0]))"
   ]
  },
  {
   "cell_type": "code",
   "execution_count": 25,
   "id": "6903f5a6",
   "metadata": {},
   "outputs": [
    {
     "data": {
      "image/png": "[encoded data removed]",
      "text/plain": [
       "<Figure size 432x288 with 1 Axes>"
      ]
     },
     "metadata": {
      "needs_background": "light"
     },
     "output_type": "display_data"
    }
   ],
   "source": [
    "# Displaying the first prediction image\n",
    "plt.imshow(x_test[0], cmap=plt.cm.binary) # using black & white colour map\n",
    "plt.show()"
   ]
  }
 ],
 "metadata": {
  "kernelspec": {
   "display_name": "Python 3 (ipykernel)",
   "language": "python",
   "name": "python3"
  },
  "language_info": {
   "codemirror_mode": {
    "name": "ipython",
    "version": 3
   },
   "file_extension": ".py",
   "mimetype": "text/x-python",
   "name": "python",
   "nbconvert_exporter": "python",
   "pygments_lexer": "ipython3",
   "version": "3.9.1"
  },
  "toc": {
   "base_numbering": 1,
   "nav_menu": {},
   "number_sections": true,
   "sideBar": true,
   "skip_h1_title": true,
   "title_cell": "Table of Contents",
   "title_sidebar": "Contents",
   "toc_cell": false,
   "toc_position": {},
   "toc_section_display": true,
   "toc_window_display": false
  }
 },
 "nbformat": 4,
 "nbformat_minor": 5
}
